{
 "cells": [
  {
   "cell_type": "markdown",
   "metadata": {},
   "source": [
    "## Importing necessary Libraries."
   ]
  },
  {
   "cell_type": "code",
   "execution_count": 1,
   "metadata": {},
   "outputs": [],
   "source": [
    "# Necessary libraries.\n",
    "from numpy import intersect1d\n",
    "import pandas as pd\n",
    "import os\n",
    "from os.path import join, exists"
   ]
  },
  {
   "cell_type": "markdown",
   "metadata": {},
   "source": [
    "## Source directory."
   ]
  },
  {
   "cell_type": "code",
   "execution_count": 4,
   "metadata": {},
   "outputs": [],
   "source": [
    "ipv_root = r'D:\\ML_projects\\IPV-Project\\annotation\\data\\first_lot\\ipv'"
   ]
  },
  {
   "cell_type": "markdown",
   "metadata": {},
   "source": [
    "## Read files from directory."
   ]
  },
  {
   "cell_type": "code",
   "execution_count": 10,
   "metadata": {},
   "outputs": [
    {
     "name": "stdout",
     "output_type": "stream",
     "text": [
      "Number of files in Shr: 143\n",
      "Number of files in Krn: 26\n"
     ]
    }
   ],
   "source": [
    "shr_root = join(ipv_root, 'Sharmila')\n",
    "krn_root = join(ipv_root, 'kiran')\n",
    "\n",
    "shr_files = [file for file in os.listdir(shr_root)]\n",
    "krn_files = [file for file in os.listdir(krn_root)]\n",
    "\n",
    "common = intersect1d(shr_files, krn_files)\n",
    "\n",
    "shr_filenames = [join(shr_root, file) for file in os.listdir(shr_root)]\n",
    "krn_filenames = [join(krn_root, file) for file in os.listdir(krn_root) if file not in common]\n",
    "\n",
    "print(f\"Number of files in Shr: {len(shr_filenames)}\")\n",
    "print(f\"Number of files in Krn: {len(krn_filenames)}\")\n",
    "\n",
    "filenames_ipv = shr_filenames + krn_filenames"
   ]
  },
  {
   "cell_type": "code",
   "execution_count": 6,
   "metadata": {},
   "outputs": [
    {
     "data": {
      "text/plain": [
       "['D:\\\\ML_projects\\\\IPV-Project\\\\annotation\\\\data\\\\first_lot\\\\ipv\\\\kiran\\\\batch_ipv_1010-1020.tsv',\n",
       " 'D:\\\\ML_projects\\\\IPV-Project\\\\annotation\\\\data\\\\first_lot\\\\ipv\\\\kiran\\\\batch_ipv_1020-1030.tsv',\n",
       " 'D:\\\\ML_projects\\\\IPV-Project\\\\annotation\\\\data\\\\first_lot\\\\ipv\\\\kiran\\\\batch_ipv_1030-1040.tsv',\n",
       " 'D:\\\\ML_projects\\\\IPV-Project\\\\annotation\\\\data\\\\first_lot\\\\ipv\\\\kiran\\\\batch_ipv_1050-1060.tsv',\n",
       " 'D:\\\\ML_projects\\\\IPV-Project\\\\annotation\\\\data\\\\first_lot\\\\ipv\\\\kiran\\\\batch_ipv_1060-1070.tsv',\n",
       " 'D:\\\\ML_projects\\\\IPV-Project\\\\annotation\\\\data\\\\first_lot\\\\ipv\\\\kiran\\\\batch_ipv_1070-1080.tsv',\n",
       " 'D:\\\\ML_projects\\\\IPV-Project\\\\annotation\\\\data\\\\first_lot\\\\ipv\\\\kiran\\\\batch_ipv_1080-1090.tsv',\n",
       " 'D:\\\\ML_projects\\\\IPV-Project\\\\annotation\\\\data\\\\first_lot\\\\ipv\\\\kiran\\\\batch_ipv_1090-1100.tsv',\n",
       " 'D:\\\\ML_projects\\\\IPV-Project\\\\annotation\\\\data\\\\first_lot\\\\ipv\\\\kiran\\\\batch_ipv_110-120.tsv',\n",
       " 'D:\\\\ML_projects\\\\IPV-Project\\\\annotation\\\\data\\\\first_lot\\\\ipv\\\\kiran\\\\batch_ipv_1210-1220.tsv',\n",
       " 'D:\\\\ML_projects\\\\IPV-Project\\\\annotation\\\\data\\\\first_lot\\\\ipv\\\\kiran\\\\batch_ipv_1220-1230.tsv',\n",
       " 'D:\\\\ML_projects\\\\IPV-Project\\\\annotation\\\\data\\\\first_lot\\\\ipv\\\\kiran\\\\batch_ipv_1230-1240.tsv',\n",
       " 'D:\\\\ML_projects\\\\IPV-Project\\\\annotation\\\\data\\\\first_lot\\\\ipv\\\\kiran\\\\batch_ipv_1240-1250.tsv',\n",
       " 'D:\\\\ML_projects\\\\IPV-Project\\\\annotation\\\\data\\\\first_lot\\\\ipv\\\\kiran\\\\batch_ipv_1250-1260.tsv',\n",
       " 'D:\\\\ML_projects\\\\IPV-Project\\\\annotation\\\\data\\\\first_lot\\\\ipv\\\\kiran\\\\batch_ipv_1260-1270.tsv',\n",
       " 'D:\\\\ML_projects\\\\IPV-Project\\\\annotation\\\\data\\\\first_lot\\\\ipv\\\\kiran\\\\batch_ipv_1270-1280.tsv',\n",
       " 'D:\\\\ML_projects\\\\IPV-Project\\\\annotation\\\\data\\\\first_lot\\\\ipv\\\\kiran\\\\batch_ipv_1280-1290.tsv',\n",
       " 'D:\\\\ML_projects\\\\IPV-Project\\\\annotation\\\\data\\\\first_lot\\\\ipv\\\\kiran\\\\batch_ipv_1290-1300.tsv',\n",
       " 'D:\\\\ML_projects\\\\IPV-Project\\\\annotation\\\\data\\\\first_lot\\\\ipv\\\\kiran\\\\batch_ipv_1300-1310.tsv',\n",
       " 'D:\\\\ML_projects\\\\IPV-Project\\\\annotation\\\\data\\\\first_lot\\\\ipv\\\\kiran\\\\batch_ipv_20-30.tsv',\n",
       " 'D:\\\\ML_projects\\\\IPV-Project\\\\annotation\\\\data\\\\first_lot\\\\ipv\\\\kiran\\\\batch_ipv_400-410.tsv',\n",
       " 'D:\\\\ML_projects\\\\IPV-Project\\\\annotation\\\\data\\\\first_lot\\\\ipv\\\\kiran\\\\batch_ipv_860-870.tsv',\n",
       " 'D:\\\\ML_projects\\\\IPV-Project\\\\annotation\\\\data\\\\first_lot\\\\ipv\\\\kiran\\\\batch_ipv_870-880.tsv',\n",
       " 'D:\\\\ML_projects\\\\IPV-Project\\\\annotation\\\\data\\\\first_lot\\\\ipv\\\\kiran\\\\batch_ipv_880-890.tsv',\n",
       " 'D:\\\\ML_projects\\\\IPV-Project\\\\annotation\\\\data\\\\first_lot\\\\ipv\\\\kiran\\\\batch_ipv_890-900.tsv',\n",
       " 'D:\\\\ML_projects\\\\IPV-Project\\\\annotation\\\\data\\\\first_lot\\\\ipv\\\\kiran\\\\batch_ipv_900-910.tsv']"
      ]
     },
     "execution_count": 6,
     "metadata": {},
     "output_type": "execute_result"
    }
   ],
   "source": [
    "krn_filenames"
   ]
  },
  {
   "cell_type": "code",
   "execution_count": 8,
   "metadata": {},
   "outputs": [
    {
     "data": {
      "text/plain": [
       "69"
      ]
     },
     "execution_count": 8,
     "metadata": {},
     "output_type": "execute_result"
    }
   ],
   "source": [
    "len(krn_files)"
   ]
  },
  {
   "cell_type": "code",
   "execution_count": 9,
   "metadata": {},
   "outputs": [
    {
     "data": {
      "text/plain": [
       "array(['batch_ipv_0-10.tsv', 'batch_ipv_10-20.tsv',\n",
       "       'batch_ipv_100-110.tsv', 'batch_ipv_120-130.tsv',\n",
       "       'batch_ipv_130-140.tsv', 'batch_ipv_140-150.tsv',\n",
       "       'batch_ipv_150-160.tsv', 'batch_ipv_160-170.tsv',\n",
       "       'batch_ipv_170-180.tsv', 'batch_ipv_180-190.tsv',\n",
       "       'batch_ipv_190-200.tsv', 'batch_ipv_30-40.tsv',\n",
       "       'batch_ipv_40-50.tsv', 'batch_ipv_410-420.tsv',\n",
       "       'batch_ipv_420-430.tsv', 'batch_ipv_430-440.tsv',\n",
       "       'batch_ipv_440-450.tsv', 'batch_ipv_450-460.tsv',\n",
       "       'batch_ipv_460-470.tsv', 'batch_ipv_470-480.tsv',\n",
       "       'batch_ipv_480-490.tsv', 'batch_ipv_490-500.tsv',\n",
       "       'batch_ipv_50-60.tsv', 'batch_ipv_500-510.tsv',\n",
       "       'batch_ipv_60-70.tsv', 'batch_ipv_610-620.tsv',\n",
       "       'batch_ipv_620-630.tsv', 'batch_ipv_630-640.tsv',\n",
       "       'batch_ipv_640-650.tsv', 'batch_ipv_650-660.tsv',\n",
       "       'batch_ipv_660-670.tsv', 'batch_ipv_670-680.tsv',\n",
       "       'batch_ipv_680-690.tsv', 'batch_ipv_690-700.tsv',\n",
       "       'batch_ipv_70-80.tsv', 'batch_ipv_700-710.tsv',\n",
       "       'batch_ipv_80-90.tsv', 'batch_ipv_810-820.tsv',\n",
       "       'batch_ipv_820-830.tsv', 'batch_ipv_830-840.tsv',\n",
       "       'batch_ipv_840-850.tsv', 'batch_ipv_850-860.tsv',\n",
       "       'batch_ipv_90-100.tsv'], dtype='<U23')"
      ]
     },
     "execution_count": 9,
     "metadata": {},
     "output_type": "execute_result"
    }
   ],
   "source": [
    "common"
   ]
  },
  {
   "cell_type": "code",
   "execution_count": null,
   "metadata": {},
   "outputs": [],
   "source": []
  },
  {
   "cell_type": "code",
   "execution_count": null,
   "metadata": {},
   "outputs": [],
   "source": []
  },
  {
   "cell_type": "code",
   "execution_count": null,
   "metadata": {},
   "outputs": [],
   "source": []
  },
  {
   "cell_type": "code",
   "execution_count": null,
   "metadata": {},
   "outputs": [],
   "source": []
  },
  {
   "cell_type": "code",
   "execution_count": null,
   "metadata": {},
   "outputs": [],
   "source": []
  },
  {
   "cell_type": "code",
   "execution_count": null,
   "metadata": {},
   "outputs": [],
   "source": []
  }
 ],
 "metadata": {
  "interpreter": {
   "hash": "63fd5069d213b44bf678585dea6b12cceca9941eaf7f819626cde1f2670de90d"
  },
  "kernelspec": {
   "display_name": "Python 3.9.5 64-bit",
   "language": "python",
   "name": "python3"
  },
  "language_info": {
   "codemirror_mode": {
    "name": "ipython",
    "version": 3
   },
   "file_extension": ".py",
   "mimetype": "text/x-python",
   "name": "python",
   "nbconvert_exporter": "python",
   "pygments_lexer": "ipython3",
   "version": "3.9.5"
  },
  "orig_nbformat": 4
 },
 "nbformat": 4,
 "nbformat_minor": 2
}
